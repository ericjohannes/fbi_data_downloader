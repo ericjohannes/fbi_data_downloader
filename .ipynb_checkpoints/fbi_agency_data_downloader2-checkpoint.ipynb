{
 "cells": [
  {
   "cell_type": "code",
   "execution_count": 1,
   "metadata": {
    "collapsed": true
   },
   "outputs": [],
   "source": [
    "# prototype for a web page. Everything seems to work\n",
    "# we'll download a file, then many files\n",
    "import urllib.request"
   ]
  },
  {
   "cell_type": "code",
   "execution_count": 2,
   "metadata": {
    "collapsed": true
   },
   "outputs": [],
   "source": [
    "import pandas as pd"
   ]
  },
  {
   "cell_type": "code",
   "execution_count": 3,
   "metadata": {
    "collapsed": true
   },
   "outputs": [],
   "source": [
    "import json"
   ]
  },
  {
   "cell_type": "code",
   "execution_count": 22,
   "metadata": {
    "collapsed": true
   },
   "outputs": [],
   "source": [
    "# strings to build url\n",
    "baseurl = \"https://api.usa.gov/crime/fbi/sapi/api/\"\n",
    "add_api = \"?api_key=bZdxxBmYk8kaCWmBbjnT35zO1OgjKumQ8b2xfzYg\"\n",
    "data_type = \"summarized/agencies/\"\n",
    "final_param = \"/offenses\""
   ]
  },
  {
   "cell_type": "code",
   "execution_count": 10,
   "metadata": {},
   "outputs": [],
   "source": [
    "agency_df = pd.read_csv(\"agencies_trimmed.csv\", index_col=0)"
   ]
  },
  {
   "cell_type": "code",
   "execution_count": 25,
   "metadata": {
    "collapsed": true
   },
   "outputs": [],
   "source": [
    "# choose your agency\n",
    "target_agency = \"Indiana University: Bloomington\""
   ]
  },
  {
   "cell_type": "code",
   "execution_count": 26,
   "metadata": {},
   "outputs": [],
   "source": [
    "target_df = agency_df[agency_df.agency_name == target_agency]\n",
    "agency_ori = target_df.iloc[0][\"ori\"]"
   ]
  },
  {
   "cell_type": "code",
   "execution_count": 27,
   "metadata": {},
   "outputs": [
    {
     "data": {
      "text/plain": [
       "'IN0530200'"
      ]
     },
     "execution_count": 27,
     "metadata": {},
     "output_type": "execute_result"
    }
   ],
   "source": [
    "# double check you have what you want\n",
    "agency_ori"
   ]
  },
  {
   "cell_type": "code",
   "execution_count": 28,
   "metadata": {},
   "outputs": [
    {
     "data": {
      "text/plain": [
       "('IN0530200.json', <http.client.HTTPMessage at 0x166bedbc0b8>)"
      ]
     },
     "execution_count": 28,
     "metadata": {},
     "output_type": "execute_result"
    }
   ],
   "source": [
    "# gets agency data\n",
    "urllib.request.urlretrieve(baseurl + data_type + agency_ori + final_param + add_api, agency_ori + \".json\")"
   ]
  },
  {
   "cell_type": "code",
   "execution_count": 9,
   "metadata": {
    "collapsed": true
   },
   "outputs": [],
   "source": [
    "# https://github.com/fbi-cde/crime-data-frontend/blob/master/README.md\n",
    "# https://github.com/fbi-cde/crime-data-api/blob/master/README.md\n",
    "# https://api.data.gov/signup/\n",
    "# https://ucr.fbi.gov/nibrs/nibrs-user-manual  List of offense codes starts page 16\n",
    "# https://ucr.fbi.gov/fingerprints_biometrics/iafis/state_cntry2000.pdf List of state abbreviations starts page 2\n",
    "# https://crime-data-explorer.fr.cloud.gov/api#!/offender45controller/getStateOffenderCountsUsingGET\n",
    "# another tool https://www.ucrdatatool.gov/Search/Crime/Local/RunCrimeJurisbyJurisLarge.cfm"
   ]
  },
  {
   "cell_type": "code",
   "execution_count": null,
   "metadata": {
    "collapsed": true
   },
   "outputs": [],
   "source": []
  }
 ],
 "metadata": {
  "kernelspec": {
   "display_name": "Python 3",
   "language": "python",
   "name": "python3"
  },
  "language_info": {
   "codemirror_mode": {
    "name": "ipython",
    "version": 3
   },
   "file_extension": ".py",
   "mimetype": "text/x-python",
   "name": "python",
   "nbconvert_exporter": "python",
   "pygments_lexer": "ipython3",
   "version": "3.6.3"
  }
 },
 "nbformat": 4,
 "nbformat_minor": 2
}
