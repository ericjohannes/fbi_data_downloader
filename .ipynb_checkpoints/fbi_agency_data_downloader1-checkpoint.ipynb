{
 "cells": [
  {
   "cell_type": "code",
   "execution_count": 2,
   "metadata": {
    "collapsed": true
   },
   "outputs": [],
   "source": [
    "# we'll download a file, then many files\n",
    "import urllib.request"
   ]
  },
  {
   "cell_type": "code",
   "execution_count": 3,
   "metadata": {
    "collapsed": true
   },
   "outputs": [],
   "source": [
    "import pandas as pd"
   ]
  },
  {
   "cell_type": "code",
   "execution_count": 4,
   "metadata": {
    "collapsed": true
   },
   "outputs": [],
   "source": [
    "import json\n"
   ]
  },
  {
   "cell_type": "code",
   "execution_count": 2,
   "metadata": {
    "collapsed": true
   },
   "outputs": [],
   "source": [
    "# \n",
    "baseurl = \"https://api.usa.gov/crime/fbi/sapi/api/\"\n",
    "in_data = \"participation/states/in\"\n",
    "add_api = \"?api_key=bZdxxBmYk8kaCWmBbjnT35zO1OgjKumQ8b2xfzYg\"\n"
   ]
  },
  {
   "cell_type": "code",
   "execution_count": 5,
   "metadata": {},
   "outputs": [
    {
     "data": {
      "text/plain": [
       "('agencies.json', <http.client.HTTPMessage at 0x277ea42e630>)"
      ]
     },
     "execution_count": 5,
     "metadata": {},
     "output_type": "execute_result"
    }
   ],
   "source": [
    "# gets agency data\n",
    "urllib.request.urlretrieve(baseurl + \"agencies\" + add_api, \"agencies.json\")"
   ]
  },
  {
   "cell_type": "code",
   "execution_count": 9,
   "metadata": {
    "collapsed": true
   },
   "outputs": [],
   "source": [
    "# https://github.com/fbi-cde/crime-data-frontend/blob/master/README.md\n",
    "# https://github.com/fbi-cde/crime-data-api/blob/master/README.md\n",
    "# https://api.data.gov/signup/\n",
    "# https://ucr.fbi.gov/nibrs/nibrs-user-manual  List of offense codes starts page 16\n",
    "# https://ucr.fbi.gov/fingerprints_biometrics/iafis/state_cntry2000.pdf List of state abbreviations starts page 2\n",
    "# https://crime-data-explorer.fr.cloud.gov/api#!/offender45controller/getStateOffenderCountsUsingGET\n",
    "# another tool https://www.ucrdatatool.gov/Search/Crime/Local/RunCrimeJurisbyJurisLarge.cfm"
   ]
  },
  {
   "cell_type": "code",
   "execution_count": 59,
   "metadata": {
    "collapsed": true
   },
   "outputs": [],
   "source": [
    "agency_df = pd.DataFrame()"
   ]
  },
  {
   "cell_type": "code",
   "execution_count": 27,
   "metadata": {
    "collapsed": true
   },
   "outputs": [],
   "source": [
    "agencies_file = open(\"agencies.json\",\"r\")"
   ]
  },
  {
   "cell_type": "code",
   "execution_count": 28,
   "metadata": {
    "collapsed": true
   },
   "outputs": [],
   "source": [
    "agencies_str = agencies_file.read()"
   ]
  },
  {
   "cell_type": "code",
   "execution_count": 29,
   "metadata": {},
   "outputs": [
    {
     "data": {
      "text/plain": [
       "'{\\n  \"HI\" : {\\n    \"HI0010000\" : {\\n      \"ori\" : \"HI0010000\",\\n      \"agency_name\" : \"Hawaii Police Dep'"
      ]
     },
     "execution_count": 29,
     "metadata": {},
     "output_type": "execute_result"
    }
   ],
   "source": [
    "agencies_str[:100]"
   ]
  },
  {
   "cell_type": "code",
   "execution_count": 36,
   "metadata": {
    "collapsed": true
   },
   "outputs": [],
   "source": [
    "parsed_json = json.loads(agencies_str)"
   ]
  },
  {
   "cell_type": "code",
   "execution_count": 44,
   "metadata": {},
   "outputs": [
    {
     "name": "stdout",
     "output_type": "stream",
     "text": [
      "HI\n",
      "DE\n",
      "PR\n",
      "TX\n",
      "MA\n",
      "MD\n",
      "ME\n",
      "IA\n",
      "ID\n",
      "MI\n",
      "UT\n",
      "MN\n",
      "MO\n",
      "IL\n",
      "IN\n",
      "MS\n",
      "MT\n",
      "AK\n",
      "VA\n",
      "AL\n",
      "AR\n",
      "VI\n",
      "NB\n",
      "NC\n",
      "ND\n",
      "RI\n",
      "AZ\n",
      "NH\n",
      "NJ\n",
      "VT\n",
      "NM\n",
      "FL\n",
      "NV\n",
      "WA\n",
      "NY\n",
      "SC\n",
      "SD\n",
      "WI\n",
      "OH\n",
      "GA\n",
      "OK\n",
      "CA\n",
      "WV\n",
      "WY\n",
      "OR\n",
      "GM\n",
      "KS\n",
      "CO\n",
      "KY\n",
      "PA\n",
      "CT\n",
      "LA\n",
      "TN\n",
      "DC\n"
     ]
    }
   ],
   "source": [
    "for state in parsed_json:\n",
    "    print (state)"
   ]
  },
  {
   "cell_type": "code",
   "execution_count": 61,
   "metadata": {
    "collapsed": true
   },
   "outputs": [],
   "source": [
    "for state in parsed_json:\n",
    "    for agency in parsed_json.get(state):\n",
    "        agency_df = agency_df.append(parsed_json.get(state).get(agency), ignore_index=True)\n",
    "    \n",
    "    \n"
   ]
  },
  {
   "cell_type": "code",
   "execution_count": 60,
   "metadata": {},
   "outputs": [
    {
     "data": {
      "text/plain": [
       "0"
      ]
     },
     "execution_count": 60,
     "metadata": {},
     "output_type": "execute_result"
    }
   ],
   "source": [
    "len(agency_df)"
   ]
  },
  {
   "cell_type": "code",
   "execution_count": 62,
   "metadata": {
    "collapsed": true
   },
   "outputs": [],
   "source": [
    "# saves to disk, eventually save to db\n",
    "agency_df.to_csv(\"agencies.csv\")\n"
   ]
  },
  {
   "cell_type": "code",
   "execution_count": 69,
   "metadata": {},
   "outputs": [
    {
     "data": {
      "text/plain": [
       "5151    IN0530200\n",
       "Name: ori, dtype: object"
      ]
     },
     "execution_count": 69,
     "metadata": {},
     "output_type": "execute_result"
    }
   ],
   "source": [
    "agency_df[agency_df.agency_name == \"Indiana University: Bloomington\"].ori"
   ]
  },
  {
   "cell_type": "code",
   "execution_count": 5,
   "metadata": {},
   "outputs": [],
   "source": [
    "# import csv\n",
    "# trim to agency name and ori\n",
    "new_df = pd.read_csv(\"agencies.csv\")"
   ]
  },
  {
   "cell_type": "code",
   "execution_count": 8,
   "metadata": {},
   "outputs": [],
   "source": [
    "# trim and save csv\n",
    "new_df.to_csv(\"agencies_trimmed.csv\", columns=['agency_name','ori'])"
   ]
  },
  {
   "cell_type": "code",
   "execution_count": null,
   "metadata": {
    "collapsed": true
   },
   "outputs": [],
   "source": []
  }
 ],
 "metadata": {
  "kernelspec": {
   "display_name": "Python 3",
   "language": "python",
   "name": "python3"
  },
  "language_info": {
   "codemirror_mode": {
    "name": "ipython",
    "version": 3
   },
   "file_extension": ".py",
   "mimetype": "text/x-python",
   "name": "python",
   "nbconvert_exporter": "python",
   "pygments_lexer": "ipython3",
   "version": "3.6.3"
  }
 },
 "nbformat": 4,
 "nbformat_minor": 2
}
